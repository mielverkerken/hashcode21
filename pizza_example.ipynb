{
 "cells": [
  {
   "cell_type": "code",
   "execution_count": 41,
   "id": "spread-walnut",
   "metadata": {},
   "outputs": [],
   "source": [
    "class Pizza():\n",
    "    def __init__(self, pizza_id, n_ingredients, ingredients):\n",
    "        self.id = pizza_id\n",
    "        self.n_ingredients = n_ingredients\n",
    "        self.ingredients = ingredients\n",
    "        \n",
    "    def __repr__(self):\n",
    "        return f\"{self.n_ingredients}: {self.ingredients}\""
   ]
  },
  {
   "cell_type": "code",
   "execution_count": 134,
   "id": "pediatric-monitor",
   "metadata": {},
   "outputs": [],
   "source": [
    "def read_file(filename):\n",
    "    # Read in content of file\n",
    "    with open(filename, 'r') as file:\n",
    "        lines = file.readlines()\n",
    "    n_pizzas, n_team2, n_team3, n_team4 = list(map(int, lines[0].strip().split()))\n",
    "    pizzas = []\n",
    "    for pizza_id in range(n_pizzas):\n",
    "        raw_pizza = lines[pizza_id+1].strip().split()\n",
    "        n_ingredients = int(raw_pizza[0])\n",
    "        ingredients = set(map(str, raw_pizza[1:]))\n",
    "        pizzas.append(Pizza(pizza_id, n_ingredients, ingredients))\n",
    "        \n",
    "    return (n_pizzas, n_team2, n_team3, n_team4, pizzas)"
   ]
  },
  {
   "cell_type": "code",
   "execution_count": 71,
   "id": "humanitarian-chapter",
   "metadata": {},
   "outputs": [],
   "source": [
    "def generate_output(filename, deliveries):\n",
    "    with open(filename + '.out', 'w') as file:\n",
    "        file.write(str(len(deliveries)) + '\\n')\n",
    "        for delivery in deliveries:\n",
    "            file.write(str(delivery['n_people']) + ' ' + ' '.join(str(p.id) for p in delivery['pizzas']) + \"\\n\")"
   ]
  },
  {
   "cell_type": "code",
   "execution_count": 46,
   "id": "assigned-possession",
   "metadata": {},
   "outputs": [],
   "source": [
    "def score(deliveries):\n",
    "    score = 0\n",
    "    for delivery in deliveries:\n",
    "        ingredients = set()\n",
    "        for pizza in delivery['pizzas']:\n",
    "            ingredients = ingredients.union(pizza.ingredients)\n",
    "        result += len(ingredients)**2\n",
    "    return score"
   ]
  },
  {
   "cell_type": "code",
   "execution_count": 81,
   "id": "isolated-klein",
   "metadata": {},
   "outputs": [],
   "source": [
    "def solve(n_pizzas, n_team2, n_team3, n_team4, pizzas):\n",
    "    pizzas.sort(reverse=True, key=lambda p: p.n_ingredients)\n",
    "    deliveries = []\n",
    "    for i in range(n_team4):\n",
    "        if len(pizzas) < 4:\n",
    "            break\n",
    "        deliveries.append({\"n_people\": 4, \"pizzas\": pizzas[:4]})\n",
    "        del pizzas[:4]\n",
    "\n",
    "    for i in range(n_team3):\n",
    "        if len(pizzas) < 3:\n",
    "            break\n",
    "        deliveries.append({\"n_people\": 3, \"pizzas\": pizzas[:3]})\n",
    "        del pizzas[:3]\n",
    "\n",
    "    for i in range(n_team2):\n",
    "        if len(pizzas) < 2:\n",
    "            break\n",
    "        deliveries.append({\"n_people\": 2, \"pizzas\": pizzas[:2]})\n",
    "        del pizzas[:2]\n",
    "    return deliveries"
   ]
  },
  {
   "cell_type": "code",
   "execution_count": 108,
   "id": "biblical-veteran",
   "metadata": {},
   "outputs": [],
   "source": [
    "# def make_delivery(pizzas, n_members):\n",
    "#     team = []\n",
    "#     ingredients = set()\n",
    "    \n",
    "#     pizzas.sort(reverse=True, key=lambda p: len(p.n_ingredients.difference(ingredients)))\n",
    "#     p_best = pizzas.pop()\n",
    "#     team.append(p_best)\n",
    "    \n",
    "\n",
    "def solve_many_ingredients(n_pizzas, n_team2, n_team3, n_team4, pizzas):\n",
    "    deliveries = []\n",
    "    for i in tqdm(range(n_team4)):\n",
    "        if len(pizzas) < 4:\n",
    "            break\n",
    "        team = []\n",
    "        ingredients = set()\n",
    "        for j in range(4):\n",
    "            pizzas.sort(reverse=True, key=lambda p: len(p.ingredients.difference(ingredients)))\n",
    "            p_best = pizzas.pop(0)\n",
    "            team.append(p_best)\n",
    "            ingredients = ingredients.union(p_best.ingredients)\n",
    "\n",
    "        deliveries.append({\"n_people\": 4, \"pizzas\": team})\n",
    "\n",
    "    for i in tqdm(range(n_team3)):\n",
    "        if len(pizzas) < 3:\n",
    "            break\n",
    "        team = []\n",
    "        ingredients = set()\n",
    "        for j in range(3):\n",
    "            pizzas.sort(reverse=True, key=lambda p: len(p.ingredients.difference(ingredients)))\n",
    "            p_best = pizzas.pop(0)\n",
    "            team.append(p_best)\n",
    "            ingredients = ingredients.union(p_best.ingredients)\n",
    "\n",
    "        deliveries.append({\"n_people\": 3, \"pizzas\": team})\n",
    "\n",
    "    for i in tqdm(range(n_team2)):\n",
    "        if len(pizzas) < 2:\n",
    "            break\n",
    "        team = []\n",
    "        ingredients = set()\n",
    "        for j in range(2):\n",
    "            pizzas.sort(reverse=True, key=lambda p: len(p.ingredients.difference(ingredients)))\n",
    "            p_best = pizzas.pop(0)\n",
    "            team.append(p_best)\n",
    "            ingredients = ingredients.union(p_best.ingredients)\n",
    "\n",
    "        deliveries.append({\"n_people\": 2, \"pizzas\": team})\n",
    "    return deliveries\n",
    "    "
   ]
  },
  {
   "cell_type": "code",
   "execution_count": 122,
   "id": "utility-circle",
   "metadata": {},
   "outputs": [],
   "source": [
    "def solve_many_teams(n_pizzas, n_team2, n_team3, n_team4, pizzas):\n",
    "    deliveries = []\n",
    "    pizzas.sort(reverse=True, key=lambda p: p.n_ingredients)\n",
    "    for i in range(n_team2):\n",
    "        if len(pizzas) < 2:\n",
    "            break\n",
    "        deliveries.append({\"n_people\": 2, \"pizzas\": pizzas[:2]})\n",
    "        del pizzas[:2]\n",
    "    for i in range(n_team3):\n",
    "        if len(pizzas) < 3:\n",
    "            break\n",
    "        deliveries.append({\"n_people\": 3, \"pizzas\": pizzas[:3]})\n",
    "        del pizzas[:3]\n",
    "    for i in range(n_team4):\n",
    "        if len(pizzas) < 4:\n",
    "            break\n",
    "        deliveries.append({\"n_people\": 4, \"pizzas\": pizzas[:4]})\n",
    "        del pizzas[:4]\n",
    "    return deliveries"
   ]
  },
  {
   "cell_type": "code",
   "execution_count": 135,
   "id": "revolutionary-discharge",
   "metadata": {},
   "outputs": [
    {
     "name": "stdout",
     "output_type": "stream",
     "text": [
      "b_little_bit_of_everything.in: score = 5612\n",
      "c_many_ingredients.in: score = 686663538\n",
      "d_many_pizzas.in: score = 5852236\n",
      "e_many_teams.in: score = 8317908\n",
      "a_example.in: score = 49\n"
     ]
    }
   ],
   "source": [
    "import os\n",
    "\n",
    "for file in os.listdir('data'):\n",
    "    if not file.endswith('.in'): # or FILE.startswith('d'):\n",
    "        continue\n",
    "    n_pizzas, n_team2, n_team3, n_team4, pizzas = read_file(f'data/{file}')\n",
    "    \n",
    "    deliveries = solve(n_pizzas, n_team2, n_team3, n_team4, pizzas)\n",
    "\n",
    "    print(f\"{file}: score = {score(deliveries)}\")\n",
    "    generate_output(f'data/{file}', deliveries)"
   ]
  },
  {
   "cell_type": "code",
   "execution_count": 125,
   "id": "private-handle",
   "metadata": {},
   "outputs": [
    {
     "name": "stdout",
     "output_type": "stream",
     "text": [
      "b_little_bit_of_everything.in: score = 7018\n",
      "c_many_ingredients.in: score = 477546981\n",
      "d_many_pizzas.in: score = 5220406\n",
      "e_many_teams.in: score = 5076545\n",
      "a_example.in: score = 61\n"
     ]
    }
   ],
   "source": [
    "import os\n",
    "\n",
    "for file in os.listdir('data'):\n",
    "    if not file.endswith('.in'): # or FILE.startswith('d'):\n",
    "        continue\n",
    "    n_pizzas, n_team2, n_team3, n_team4, pizzas = read_file(f'data/{file}')\n",
    "    \n",
    "    deliveries = solve_many_teams(n_pizzas, n_team2, n_team3, n_team4, pizzas)\n",
    "\n",
    "    print(f\"{file}: score = {score(deliveries)}\")\n",
    "    generate_output(f'data/{file}', deliveries)"
   ]
  },
  {
   "cell_type": "code",
   "execution_count": 109,
   "id": "entire-richmond",
   "metadata": {},
   "outputs": [
    {
     "name": "stderr",
     "output_type": "stream",
     "text": [
      "100%|██████████| 60/60 [00:00<00:00, 1504.44it/s]\n",
      "100%|██████████| 60/60 [00:00<00:00, 5943.04it/s]\n",
      " 62%|██████▏   | 40/65 [00:00<00:00, 30800.84it/s]\n"
     ]
    },
    {
     "name": "stdout",
     "output_type": "stream",
     "text": [
      "b_little_bit_of_everything.in: score = 7241\n"
     ]
    },
    {
     "name": "stderr",
     "output_type": "stream",
     "text": [
      "100%|██████████| 585/585 [02:19<00:00,  4.20it/s]\n",
      "100%|██████████| 539/539 [00:50<00:00, 10.65it/s]\n",
      "100%|██████████| 504/504 [00:17<00:00, 29.19it/s]\n"
     ]
    },
    {
     "name": "stdout",
     "output_type": "stream",
     "text": [
      "c_many_ingredients.in: score = 705586843\n"
     ]
    },
    {
     "name": "stderr",
     "output_type": "stream",
     "text": [
      " 18%|█▊        | 484/2742 [03:21<15:39,  2.40it/s]\n"
     ]
    },
    {
     "ename": "KeyboardInterrupt",
     "evalue": "",
     "output_type": "error",
     "traceback": [
      "\u001b[0;31m---------------------------------------------------------------------------\u001b[0m",
      "\u001b[0;31mKeyboardInterrupt\u001b[0m                         Traceback (most recent call last)",
      "\u001b[0;32m<ipython-input-109-c571a9d757ef>\u001b[0m in \u001b[0;36m<module>\u001b[0;34m\u001b[0m\n\u001b[1;32m      7\u001b[0m     \u001b[0mn_pizzas\u001b[0m\u001b[0;34m,\u001b[0m \u001b[0mn_team2\u001b[0m\u001b[0;34m,\u001b[0m \u001b[0mn_team3\u001b[0m\u001b[0;34m,\u001b[0m \u001b[0mn_team4\u001b[0m\u001b[0;34m,\u001b[0m \u001b[0mpizzas\u001b[0m \u001b[0;34m=\u001b[0m \u001b[0mread_file\u001b[0m\u001b[0;34m(\u001b[0m\u001b[0;34mf'data/{file}'\u001b[0m\u001b[0;34m)\u001b[0m\u001b[0;34m\u001b[0m\u001b[0;34m\u001b[0m\u001b[0m\n\u001b[1;32m      8\u001b[0m \u001b[0;34m\u001b[0m\u001b[0m\n\u001b[0;32m----> 9\u001b[0;31m     \u001b[0mdeliveries\u001b[0m \u001b[0;34m=\u001b[0m \u001b[0msolve_many_ingredients\u001b[0m\u001b[0;34m(\u001b[0m\u001b[0mn_pizzas\u001b[0m\u001b[0;34m,\u001b[0m \u001b[0mn_team2\u001b[0m\u001b[0;34m,\u001b[0m \u001b[0mn_team3\u001b[0m\u001b[0;34m,\u001b[0m \u001b[0mn_team4\u001b[0m\u001b[0;34m,\u001b[0m \u001b[0mpizzas\u001b[0m\u001b[0;34m)\u001b[0m\u001b[0;34m\u001b[0m\u001b[0;34m\u001b[0m\u001b[0m\n\u001b[0m\u001b[1;32m     10\u001b[0m \u001b[0;34m\u001b[0m\u001b[0m\n\u001b[1;32m     11\u001b[0m     \u001b[0mprint\u001b[0m\u001b[0;34m(\u001b[0m\u001b[0;34mf\"{file}: score = {score(deliveries)}\"\u001b[0m\u001b[0;34m)\u001b[0m\u001b[0;34m\u001b[0m\u001b[0;34m\u001b[0m\u001b[0m\n",
      "\u001b[0;32m<ipython-input-108-07fa5dacdcda>\u001b[0m in \u001b[0;36msolve_many_ingredients\u001b[0;34m(n_pizzas, n_team2, n_team3, n_team4, pizzas)\u001b[0m\n\u001b[1;32m     16\u001b[0m         \u001b[0mingredients\u001b[0m \u001b[0;34m=\u001b[0m \u001b[0mset\u001b[0m\u001b[0;34m(\u001b[0m\u001b[0;34m)\u001b[0m\u001b[0;34m\u001b[0m\u001b[0;34m\u001b[0m\u001b[0m\n\u001b[1;32m     17\u001b[0m         \u001b[0;32mfor\u001b[0m \u001b[0mj\u001b[0m \u001b[0;32min\u001b[0m \u001b[0mrange\u001b[0m\u001b[0;34m(\u001b[0m\u001b[0;36m4\u001b[0m\u001b[0;34m)\u001b[0m\u001b[0;34m:\u001b[0m\u001b[0;34m\u001b[0m\u001b[0;34m\u001b[0m\u001b[0m\n\u001b[0;32m---> 18\u001b[0;31m             \u001b[0mpizzas\u001b[0m\u001b[0;34m.\u001b[0m\u001b[0msort\u001b[0m\u001b[0;34m(\u001b[0m\u001b[0mreverse\u001b[0m\u001b[0;34m=\u001b[0m\u001b[0;32mTrue\u001b[0m\u001b[0;34m,\u001b[0m \u001b[0mkey\u001b[0m\u001b[0;34m=\u001b[0m\u001b[0;32mlambda\u001b[0m \u001b[0mp\u001b[0m\u001b[0;34m:\u001b[0m \u001b[0mlen\u001b[0m\u001b[0;34m(\u001b[0m\u001b[0mp\u001b[0m\u001b[0;34m.\u001b[0m\u001b[0mingredients\u001b[0m\u001b[0;34m.\u001b[0m\u001b[0mdifference\u001b[0m\u001b[0;34m(\u001b[0m\u001b[0mingredients\u001b[0m\u001b[0;34m)\u001b[0m\u001b[0;34m)\u001b[0m\u001b[0;34m)\u001b[0m\u001b[0;34m\u001b[0m\u001b[0;34m\u001b[0m\u001b[0m\n\u001b[0m\u001b[1;32m     19\u001b[0m             \u001b[0mp_best\u001b[0m \u001b[0;34m=\u001b[0m \u001b[0mpizzas\u001b[0m\u001b[0;34m.\u001b[0m\u001b[0mpop\u001b[0m\u001b[0;34m(\u001b[0m\u001b[0;36m0\u001b[0m\u001b[0;34m)\u001b[0m\u001b[0;34m\u001b[0m\u001b[0;34m\u001b[0m\u001b[0m\n\u001b[1;32m     20\u001b[0m             \u001b[0mteam\u001b[0m\u001b[0;34m.\u001b[0m\u001b[0mappend\u001b[0m\u001b[0;34m(\u001b[0m\u001b[0mp_best\u001b[0m\u001b[0;34m)\u001b[0m\u001b[0;34m\u001b[0m\u001b[0;34m\u001b[0m\u001b[0m\n",
      "\u001b[0;32m<ipython-input-108-07fa5dacdcda>\u001b[0m in \u001b[0;36m<lambda>\u001b[0;34m(p)\u001b[0m\n\u001b[1;32m     16\u001b[0m         \u001b[0mingredients\u001b[0m \u001b[0;34m=\u001b[0m \u001b[0mset\u001b[0m\u001b[0;34m(\u001b[0m\u001b[0;34m)\u001b[0m\u001b[0;34m\u001b[0m\u001b[0;34m\u001b[0m\u001b[0m\n\u001b[1;32m     17\u001b[0m         \u001b[0;32mfor\u001b[0m \u001b[0mj\u001b[0m \u001b[0;32min\u001b[0m \u001b[0mrange\u001b[0m\u001b[0;34m(\u001b[0m\u001b[0;36m4\u001b[0m\u001b[0;34m)\u001b[0m\u001b[0;34m:\u001b[0m\u001b[0;34m\u001b[0m\u001b[0;34m\u001b[0m\u001b[0m\n\u001b[0;32m---> 18\u001b[0;31m             \u001b[0mpizzas\u001b[0m\u001b[0;34m.\u001b[0m\u001b[0msort\u001b[0m\u001b[0;34m(\u001b[0m\u001b[0mreverse\u001b[0m\u001b[0;34m=\u001b[0m\u001b[0;32mTrue\u001b[0m\u001b[0;34m,\u001b[0m \u001b[0mkey\u001b[0m\u001b[0;34m=\u001b[0m\u001b[0;32mlambda\u001b[0m \u001b[0mp\u001b[0m\u001b[0;34m:\u001b[0m \u001b[0mlen\u001b[0m\u001b[0;34m(\u001b[0m\u001b[0mp\u001b[0m\u001b[0;34m.\u001b[0m\u001b[0mingredients\u001b[0m\u001b[0;34m.\u001b[0m\u001b[0mdifference\u001b[0m\u001b[0;34m(\u001b[0m\u001b[0mingredients\u001b[0m\u001b[0;34m)\u001b[0m\u001b[0;34m)\u001b[0m\u001b[0;34m)\u001b[0m\u001b[0;34m\u001b[0m\u001b[0;34m\u001b[0m\u001b[0m\n\u001b[0m\u001b[1;32m     19\u001b[0m             \u001b[0mp_best\u001b[0m \u001b[0;34m=\u001b[0m \u001b[0mpizzas\u001b[0m\u001b[0;34m.\u001b[0m\u001b[0mpop\u001b[0m\u001b[0;34m(\u001b[0m\u001b[0;36m0\u001b[0m\u001b[0;34m)\u001b[0m\u001b[0;34m\u001b[0m\u001b[0;34m\u001b[0m\u001b[0m\n\u001b[1;32m     20\u001b[0m             \u001b[0mteam\u001b[0m\u001b[0;34m.\u001b[0m\u001b[0mappend\u001b[0m\u001b[0;34m(\u001b[0m\u001b[0mp_best\u001b[0m\u001b[0;34m)\u001b[0m\u001b[0;34m\u001b[0m\u001b[0;34m\u001b[0m\u001b[0m\n",
      "\u001b[0;31mKeyboardInterrupt\u001b[0m: "
     ]
    }
   ],
   "source": [
    "import os\n",
    "from tqdm import tqdm\n",
    "\n",
    "for file in os.listdir('data'):\n",
    "    if not file.endswith('.in'): # or FILE.startswith('d'):\n",
    "        continue\n",
    "    n_pizzas, n_team2, n_team3, n_team4, pizzas = read_file(f'data/{file}')\n",
    "    \n",
    "    deliveries = solve_many_ingredients(n_pizzas, n_team2, n_team3, n_team4, pizzas)\n",
    "\n",
    "    print(f\"{file}: score = {score(deliveries)}\")\n",
    "    generate_output(f'data/{file}', deliveries)"
   ]
  },
  {
   "cell_type": "code",
   "execution_count": 136,
   "id": "economic-shakespeare",
   "metadata": {},
   "outputs": [
    {
     "name": "stdout",
     "output_type": "stream",
     "text": [
      "a_example.in.out: score = 5612\n"
     ]
    }
   ],
   "source": [
    "n_pizzas, n_team2, n_team3, n_team4, pizzas = read_file('data/b_little_bit_of_everything.in')\n",
    "    \n",
    "deliveries = solve(n_pizzas, n_team2, n_team3, n_team4, pizzas)\n",
    "\n",
    "print(f\"{file}: score = {score(deliveries)}\")\n",
    "generate_output(f'data/{file}', deliveries)"
   ]
  },
  {
   "cell_type": "code",
   "execution_count": null,
   "id": "following-victory",
   "metadata": {},
   "outputs": [],
   "source": []
  },
  {
   "cell_type": "code",
   "execution_count": 193,
   "id": "suitable-virtue",
   "metadata": {},
   "outputs": [],
   "source": [
    "def neighbour(state):\n",
    "    if len(state) < 2:\n",
    "        return state\n",
    "    \n",
    "    result = state.copy()\n",
    "    i1 = random.randint(0, len(result) - 1)\n",
    "    i2 = random.randint(0, len(result) - 1)\n",
    "    \n",
    "    if i1 == i2:\n",
    "        return result\n",
    "    \n",
    "    pizzas = state[i1][\"pizzas\"] + state[i2][\"pizzas\"]\n",
    "    delivery = []\n",
    "    ingredients = set()\n",
    "    for j in range(max(len(state[i1][\"pizzas\"]), len(state[i1][\"pizzas\"]))):\n",
    "        pizzas.sort(reverse=True, key=lambda p: len(p.ingredients.difference(ingredients)))\n",
    "        p_best = pizzas.pop(0)\n",
    "        delivery.append(p_best)\n",
    "        ingredients = ingredients.union(p_best.ingredients)\n",
    "    \n",
    "    result[i1] = {\"n_people\": len(delivery), \"pizzas\": delivery}\n",
    "    result[i2] = {\"n_people\": len(pizzas), \"pizzas\": pizzas}\n",
    "     \n",
    "    return result"
   ]
  },
  {
   "cell_type": "code",
   "execution_count": 195,
   "id": "median-satisfaction",
   "metadata": {},
   "outputs": [],
   "source": [
    "def accept(new_score, score, temp):\n",
    "    return math.exp((score - new_score) / temp)"
   ]
  },
  {
   "cell_type": "code",
   "execution_count": 155,
   "id": "violent-belize",
   "metadata": {},
   "outputs": [],
   "source": [
    "import random\n",
    "import numpy as np"
   ]
  },
  {
   "cell_type": "code",
   "execution_count": 196,
   "id": "right-wrapping",
   "metadata": {},
   "outputs": [
    {
     "name": "stderr",
     "output_type": "stream",
     "text": [
      "  4%|▎         | 3639/100000 [00:01<00:35, 2677.98it/s]\n"
     ]
    },
    {
     "ename": "OverflowError",
     "evalue": "math range error",
     "output_type": "error",
     "traceback": [
      "\u001b[0;31m---------------------------------------------------------------------------\u001b[0m",
      "\u001b[0;31mOverflowError\u001b[0m                             Traceback (most recent call last)",
      "\u001b[0;32m<ipython-input-196-d3e93cd0aea7>\u001b[0m in \u001b[0;36m<module>\u001b[0;34m\u001b[0m\n\u001b[1;32m     10\u001b[0m     \u001b[0mnew_state\u001b[0m \u001b[0;34m=\u001b[0m \u001b[0mneighbour\u001b[0m\u001b[0;34m(\u001b[0m\u001b[0mstate\u001b[0m\u001b[0;34m)\u001b[0m\u001b[0;34m\u001b[0m\u001b[0;34m\u001b[0m\u001b[0m\n\u001b[1;32m     11\u001b[0m     \u001b[0mnew_score\u001b[0m \u001b[0;34m=\u001b[0m \u001b[0mscore\u001b[0m\u001b[0;34m(\u001b[0m\u001b[0mnew_state\u001b[0m\u001b[0;34m)\u001b[0m\u001b[0;34m\u001b[0m\u001b[0;34m\u001b[0m\u001b[0m\n\u001b[0;32m---> 12\u001b[0;31m     \u001b[0ma\u001b[0m \u001b[0;34m=\u001b[0m \u001b[0maccept\u001b[0m\u001b[0;34m(\u001b[0m\u001b[0mnew_score\u001b[0m\u001b[0;34m,\u001b[0m \u001b[0mcurrent_score\u001b[0m\u001b[0;34m,\u001b[0m \u001b[0mtemperature\u001b[0m\u001b[0;34m)\u001b[0m\u001b[0;34m\u001b[0m\u001b[0;34m\u001b[0m\u001b[0m\n\u001b[0m\u001b[1;32m     13\u001b[0m     \u001b[0;32mif\u001b[0m \u001b[0mnew_score\u001b[0m \u001b[0;34m>\u001b[0m \u001b[0mcurrent_score\u001b[0m \u001b[0;32mor\u001b[0m \u001b[0ma\u001b[0m \u001b[0;34m>=\u001b[0m \u001b[0mrandom\u001b[0m\u001b[0;34m.\u001b[0m\u001b[0mrandom\u001b[0m\u001b[0;34m(\u001b[0m\u001b[0;34m)\u001b[0m\u001b[0;34m:\u001b[0m\u001b[0;34m\u001b[0m\u001b[0;34m\u001b[0m\u001b[0m\n\u001b[1;32m     14\u001b[0m         \u001b[0mstate\u001b[0m \u001b[0;34m=\u001b[0m \u001b[0mnew_state\u001b[0m\u001b[0;34m\u001b[0m\u001b[0;34m\u001b[0m\u001b[0m\n",
      "\u001b[0;32m<ipython-input-195-a67795bd492b>\u001b[0m in \u001b[0;36maccept\u001b[0;34m(new_score, score, temp)\u001b[0m\n\u001b[1;32m      1\u001b[0m \u001b[0;32mdef\u001b[0m \u001b[0maccept\u001b[0m\u001b[0;34m(\u001b[0m\u001b[0mnew_score\u001b[0m\u001b[0;34m,\u001b[0m \u001b[0mscore\u001b[0m\u001b[0;34m,\u001b[0m \u001b[0mtemp\u001b[0m\u001b[0;34m)\u001b[0m\u001b[0;34m:\u001b[0m\u001b[0;34m\u001b[0m\u001b[0;34m\u001b[0m\u001b[0m\n\u001b[0;32m----> 2\u001b[0;31m     \u001b[0;32mreturn\u001b[0m \u001b[0mmath\u001b[0m\u001b[0;34m.\u001b[0m\u001b[0mexp\u001b[0m\u001b[0;34m(\u001b[0m\u001b[0;34m(\u001b[0m\u001b[0mscore\u001b[0m \u001b[0;34m-\u001b[0m \u001b[0mnew_score\u001b[0m\u001b[0;34m)\u001b[0m \u001b[0;34m/\u001b[0m \u001b[0mtemp\u001b[0m\u001b[0;34m)\u001b[0m\u001b[0;34m\u001b[0m\u001b[0;34m\u001b[0m\u001b[0m\n\u001b[0m",
      "\u001b[0;31mOverflowError\u001b[0m: math range error"
     ]
    }
   ],
   "source": [
    "state = deliveries\n",
    "steps = 100000\n",
    "temperature = 3000\n",
    "current_score = score(state)\n",
    "best_score = current_score\n",
    "best_state = state\n",
    "scores = []\n",
    "accepts = []\n",
    "for k in tqdm(range(steps)):\n",
    "    new_state = neighbour(state)\n",
    "    new_score = score(new_state)\n",
    "    a = accept(new_score, current_score, temperature)\n",
    "    if new_score > current_score or a >= random.random():\n",
    "        state = new_state\n",
    "        current_score = new_score\n",
    "    if current_score > best_score:\n",
    "        best_score = current_score\n",
    "        best_state = state\n",
    "    temperature *= 1 - 0.003\n",
    "    accepts.append(a)\n",
    "    scores.append(current_score)\n",
    "score(best_state)"
   ]
  },
  {
   "cell_type": "code",
   "execution_count": 169,
   "id": "structured-neighbor",
   "metadata": {},
   "outputs": [],
   "source": [
    "generate_output(f'data/b_little_bit_of_everything.in', state)"
   ]
  },
  {
   "cell_type": "code",
   "execution_count": 188,
   "id": "cleared-nomination",
   "metadata": {},
   "outputs": [
    {
     "data": {
      "text/plain": [
       "[<matplotlib.lines.Line2D at 0x7ff8a4b717f0>]"
      ]
     },
     "execution_count": 188,
     "metadata": {},
     "output_type": "execute_result"
    },
    {
     "data": {
      "image/png": "[encoded data removed]",
      "text/plain": [
       "<Figure size 432x288 with 1 Axes>"
      ]
     },
     "metadata": {
      "needs_background": "light"
     },
     "output_type": "display_data"
    }
   ],
   "source": [
    "import matplotlib.pyplot as plt\n",
    "\n",
    "plt.plot(scores)"
   ]
  },
  {
   "cell_type": "code",
   "execution_count": 189,
   "id": "instant-discrimination",
   "metadata": {},
   "outputs": [
    {
     "data": {
      "text/plain": [
       "[<matplotlib.lines.Line2D at 0x7ff8a385b8e0>]"
      ]
     },
     "execution_count": 189,
     "metadata": {},
     "output_type": "execute_result"
    },
    {
     "data": {
      "image/png": "[encoded data removed]",
      "text/plain": [
       "<Figure size 432x288 with 1 Axes>"
      ]
     },
     "metadata": {
      "needs_background": "light"
     },
     "output_type": "display_data"
    }
   ],
   "source": [
    "plt.plot(accepts)"
   ]
  },
  {
   "cell_type": "code",
   "execution_count": null,
   "id": "supposed-forward",
   "metadata": {},
   "outputs": [],
   "source": []
  }
 ],
 "metadata": {
  "kernelspec": {
   "display_name": "Python 3",
   "language": "python",
   "name": "python3"
  },
  "language_info": {
   "codemirror_mode": {
    "name": "ipython",
    "version": 3
   },
   "file_extension": ".py",
   "mimetype": "text/x-python",
   "name": "python",
   "nbconvert_exporter": "python",
   "pygments_lexer": "ipython3",
   "version": "3.8.6"
  }
 },
 "nbformat": 4,
 "nbformat_minor": 5
}
