{
 "cells": [
  {
   "cell_type": "code",
   "execution_count": 28,
   "metadata": {},
   "outputs": [],
   "source": [
    "import numpy as np\n",
    "from tqdm import tqdm"
   ]
  },
  {
   "cell_type": "code",
   "execution_count": 75,
   "metadata": {},
   "outputs": [],
   "source": [
    "class Intersection:\n",
    "    def __init__(self, id):\n",
    "        self.id = id\n",
    "        self.street_in = {}\n",
    "        self.street_out = {}\n",
    "    \n",
    "    def __repr__(self):\n",
    "        return f\"{self.id}: cars({sum(self.street_in.values())})\""
   ]
  },
  {
   "cell_type": "code",
   "execution_count": 30,
   "metadata": {},
   "outputs": [],
   "source": [
    "class Street:\n",
    "    def __init__(self, start, end, name, duration):\n",
    "        self.start = start\n",
    "        self.end = end\n",
    "        self.name = name\n",
    "        self.duration = duration"
   ]
  },
  {
   "cell_type": "code",
   "execution_count": 50,
   "metadata": {},
   "outputs": [],
   "source": [
    "import math\n",
    "\n",
    "class Car:\n",
    "    def __init__(self, n_streets, streets):\n",
    "        self.n_streets = n_streets\n",
    "        self.streets = streets\n",
    "        self.trip_duration = math.inf"
   ]
  },
  {
   "cell_type": "code",
   "execution_count": 32,
   "metadata": {},
   "outputs": [],
   "source": [
    "class Problem:\n",
    "    def __init__(self, duration, n_intersections, n_streets, n_cars, points, cars, streets, intersections):\n",
    "        self.duration = duration\n",
    "        self.n_intersections = n_intersections\n",
    "        self.n_streets = n_streets\n",
    "        self.n_cars = n_cars\n",
    "        self.points = points\n",
    "        self.cars = cars\n",
    "        self.streets = streets\n",
    "        self.intersections = intersections\n",
    "\n",
    "    def __repr__(self):\n",
    "        return f\"T={self.duration};n_intersections={self.n_intersections};n_streets{self.n_streets};n_cars{self.n_cars};points{self.points}\""
   ]
  },
  {
   "cell_type": "code",
   "execution_count": 33,
   "metadata": {},
   "outputs": [],
   "source": [
    "class Schedule:\n",
    "    def __init__(self, intersection_id):\n",
    "        self.intersection_id = intersection_id\n",
    "        self.green_lights = list()\n",
    "\n",
    "    def add_street(self, street_name, duration):\n",
    "        self.green_lights.append({\"name\": street_name, \"duration\": duration})\n",
    "\n",
    "    def __repr__(self):\n",
    "        return f\"{self.intersection_id}: {self.green_lights}\""
   ]
  },
  {
   "cell_type": "code",
   "execution_count": 68,
   "metadata": {},
   "outputs": [],
   "source": [
    "def read_file(filename):\n",
    "    # Read in content of file\n",
    "    with open(filename) as f:\n",
    "        lines = f.readlines()\n",
    "    time, n_intersections, n_streets, n_cars, points = list(map(int, lines[0].strip().split()))\n",
    "    streets = {}\n",
    "    intersections = {} # steets arriving in a intersection\n",
    "    for i in range(n_intersections):\n",
    "        intersections[i] = Intersection(i)\n",
    "\n",
    "    for i in range(n_streets):\n",
    "        start, end, name, duration = lines[1 + i].strip().split()\n",
    "        streets[name] = Street(int(start), int(end), name, int(duration))\n",
    "        intersections[int(start)].street_out[name] = 0\n",
    "        intersections[int(end)].street_in[name] = 0\n",
    "\n",
    "    cars = []\n",
    "    for i in range(n_cars):\n",
    "        split = lines[1 + n_streets + i].strip().split()\n",
    "        cars.append(Car(int(split[0]), split[1:]))\n",
    "        \n",
    "    return Problem(time, n_intersections, n_streets, n_cars, points, cars, streets, intersections) "
   ]
  },
  {
   "cell_type": "code",
   "execution_count": 35,
   "metadata": {},
   "outputs": [],
   "source": [
    "def generate_output(filename, schedules):\n",
    "    with open(filename + '.out', 'w') as file:\n",
    "        file.write(str(len(schedules)) + '\\n')\n",
    "        for schedule in schedules:\n",
    "            file.write(str(schedule.intersection_id) + '\\n')\n",
    "            file.write(str(len(schedule.green_lights)) + '\\n')\n",
    "            for light in schedule.green_lights:\n",
    "                file.write(f\"{light['name']} {light['duration']}\\n\")"
   ]
  },
  {
   "cell_type": "code",
   "execution_count": 70,
   "metadata": {},
   "outputs": [
    {
     "name": "stderr",
     "output_type": "stream",
     "text": [
      "100%|██████████| 4/4 [00:00<00:00, 11118.10it/s]\n",
      "100%|██████████| 7073/7073 [00:00<00:00, 78210.43it/s]\n",
      "100%|██████████| 10000/10000 [00:00<00:00, 73096.71it/s]\n",
      "100%|██████████| 8000/8000 [00:00<00:00, 65281.00it/s]\n",
      "100%|██████████| 500/500 [00:00<00:00, 217931.21it/s]\n",
      "100%|██████████| 1662/1662 [00:00<00:00, 30473.09it/s]\n"
     ]
    }
   ],
   "source": [
    "import os\n",
    "\n",
    "for file in os.listdir('data'):\n",
    "    if not file.endswith('.txt'): # or FILE.startswith('d'):\n",
    "        continue\n",
    "    problem = read_file(f\"data/{file}\")\n",
    "    \n",
    "    schedules = []\n",
    "    for intersection_id, intersection in tqdm(problem.intersections.items()):\n",
    "        schedule = Schedule(intersection_id)\n",
    "        for street in intersection.street_in.keys():\n",
    "            schedule.add_street(street, 1)\n",
    "        schedules.append(schedule)\n",
    "\n",
    "    # print(f\"{file}: score = {score(deliveries)}\")\n",
    "    generate_output(f'data/{file}', schedules)"
   ]
  },
  {
   "cell_type": "code",
   "execution_count": 146,
   "metadata": {},
   "outputs": [
    {
     "name": "stderr",
     "output_type": "stream",
     "text": [
      "100%|██████████| 4/4 [00:00<00:00, 12096.05it/s]\n",
      "100%|██████████| 7073/7073 [00:00<00:00, 161295.70it/s]\n",
      "100%|██████████| 10000/10000 [00:00<00:00, 142222.22it/s]\n",
      "100%|██████████| 8000/8000 [00:00<00:00, 27628.21it/s]\n",
      "100%|██████████| 500/500 [00:00<00:00, 111532.84it/s]\n",
      "100%|██████████| 1662/1662 [00:00<00:00, 60796.56it/s]\n"
     ]
    }
   ],
   "source": [
    "import os\n",
    "\n",
    "for file in os.listdir('data'):\n",
    "    if not file.endswith('.txt'): # or FILE.startswith('d'):\n",
    "        continue\n",
    "        \n",
    "    p = read_file(f\"data/{file}\")\n",
    "    \n",
    "    for car in p.cars:\n",
    "        car.trip_duration = 0\n",
    "        for s_name in car.streets:\n",
    "            street = p.streets[s_name]\n",
    "            car.trip_duration += street.duration\n",
    "            p.intersections[street.end].street_in[s_name] += 1\n",
    "\n",
    "    streets_star = {}\n",
    "    for car in p.cars:\n",
    "        i = p.streets[car.streets[0]].end\n",
    "        if i not in streets_star:\n",
    "            streets_star[i] = {}\n",
    "\n",
    "        if car.streets[0] not in streets_star[i]:\n",
    "            streets_star[i][car.streets[0]] = 0\n",
    "        streets_star[i][car.streets[0]] += 1\n",
    "\n",
    "    schedules = []\n",
    "    for intersection_id, intersection in tqdm(p.intersections.items()):\n",
    "\n",
    "        schedule = Schedule(intersection_id)\n",
    "        if intersection_id in streets_star:\n",
    "            for street, n_cars in streets_star[intersection_id].items():\n",
    "                schedule.add_street(street, math.ceil(n_cars/5))\n",
    "            for street, n_cars in intersection.street_in.items():\n",
    "                if (n_cars > 0) and street not in streets_star[intersection_id]:\n",
    "                    schedule.add_street(street, math.ceil(n_cars/5))\n",
    "                    \n",
    "        else:\n",
    "            for street, n_cars in intersection.street_in.items():\n",
    "                if (n_cars > 0):\n",
    "                    schedule.add_street(street, math.ceil(n_cars/5))\n",
    "        if len(schedule.green_lights) > 0:\n",
    "            schedules.append(schedule)\n",
    "            \n",
    "                \n",
    "#     for intersection_id, intersection in tqdm(p.intersections.items()):\n",
    "#         schedule = Schedule(intersection_id)\n",
    "#         for street, n_cars in intersection.street_in.items():\n",
    "#             if (n_cars > 0):\n",
    "#                 schedule.add_street(street, math.ceil(n_cars/5))\n",
    "#         if len(schedule.green_lights) > 0:\n",
    "#             schedules.append(schedule)\n",
    "\n",
    "    # print(f\"{file}: score = {score(deliveries)}\")\n",
    "    generate_output(f'data/{file}', schedules)"
   ]
  },
  {
   "cell_type": "code",
   "execution_count": 139,
   "metadata": {},
   "outputs": [
    {
     "name": "stderr",
     "output_type": "stream",
     "text": [
      "100%|██████████| 500/500 [00:00<00:00, 125653.21it/s]\n"
     ]
    }
   ],
   "source": [
    "p = read_file(\"data/e.txt\")\n",
    "    \n",
    "    \n",
    "for car in p.cars:\n",
    "    car.trip_duration = 0\n",
    "    for s_name in car.streets:\n",
    "        street = p.streets[s_name]\n",
    "        car.trip_duration += street.duration\n",
    "        p.intersections[street.end].street_in[s_name] += 1\n",
    "\n",
    "streets_star = {}\n",
    "for car in p.cars:\n",
    "    i = p.streets[car.streets[0]].end\n",
    "    if i not in streets_star:\n",
    "        streets_star[i] = {}\n",
    "        \n",
    "    if car.streets[0] not in streets_star[i]:\n",
    "        streets_star[i][car.streets[0]] = 0\n",
    "    streets_star[i][car.streets[0]] += 1\n",
    "\n",
    "schedules = []\n",
    "for intersection_id, intersection in tqdm(p.intersections.items()):\n",
    "    \n",
    "    schedule = Schedule(intersection_id)\n",
    "    for street, n_cars in streets_star[intersection_id].items():\n",
    "        schedule.add_street(street, n_cars)\n",
    "    for street, n_cars in intersection.street_in.items():\n",
    "        if (n_cars > 0) and street not in streets_star[intersection_id]:\n",
    "            schedule.add_street(street, n_cars)\n",
    "    if len(schedule.green_lights) > 0:\n",
    "        schedules.append(schedule)\n",
    "\n",
    "# print(f\"{file}: score = {score(deliveries)}\")\n",
    "generate_output(f'data/e.txt', schedules)"
   ]
  },
  {
   "cell_type": "code",
   "execution_count": null,
   "metadata": {},
   "outputs": [],
   "source": []
  },
  {
   "cell_type": "code",
   "execution_count": 130,
   "metadata": {},
   "outputs": [
    {
     "name": "stdout",
     "output_type": "stream",
     "text": [
      "T=676;n_intersections=500;n_streets998;n_cars1000;points500\n"
     ]
    }
   ],
   "source": [
    "p = read_file(\"data/e.txt\")\n",
    "print(p)\n",
    "        \n",
    "for car in p.cars:\n",
    "    car.trip_duration = 0\n",
    "    for s_name in car.streets:\n",
    "        street = p.streets[s_name]\n",
    "        car.trip_duration += street.duration\n",
    "        p.intersections[street.end].street_in[s_name] += 1\n",
    "\n",
    "# p.cars.sort(key=lambda c: c.trip_duration, reverse=False)        "
   ]
  },
  {
   "cell_type": "code",
   "execution_count": 135,
   "metadata": {},
   "outputs": [
    {
     "data": {
      "text/plain": [
       "['i-ejj',\n",
       " 'be-ejj',\n",
       " 'bha-ejj',\n",
       " 'je-ejj',\n",
       " 'dda-ejj',\n",
       " 'dge-ejj',\n",
       " 'cae-ejj',\n",
       " 'gi-ejj',\n",
       " 'dg-ejj',\n",
       " 'dea-ejj',\n",
       " 'ca-ejj',\n",
       " 'cde-ejj',\n",
       " 'bda-ejj',\n",
       " 'bac-ejj',\n",
       " 'cci-ejj',\n",
       " 'i-ejj',\n",
       " 'ig-ejj',\n",
       " 'ejc-ejj',\n",
       " 'fc-ejj',\n",
       " 'ehi-ejj',\n",
       " 'bag-ejj',\n",
       " 'eda-ejj',\n",
       " 'cdi-ejj',\n",
       " 'i-ejj',\n",
       " 'dia-ejj',\n",
       " 'bie-ejj',\n",
       " 'dhe-ejj',\n",
       " 'bgi-ejj',\n",
       " 'big-ejj',\n",
       " 'egg-ejj',\n",
       " 'dhe-ejj',\n",
       " 'cgg-ejj',\n",
       " 'dhg-ejj',\n",
       " 'cfi-ejj',\n",
       " 'cjg-ejj',\n",
       " 'dha-ejj',\n",
       " 'ba-ejj',\n",
       " 'bdc-ejj',\n",
       " 'cee-ejj',\n",
       " 'eeg-ejj',\n",
       " 'he-ejj',\n",
       " 'efa-ejj',\n",
       " 'cia-ejj',\n",
       " 'cdi-ejj',\n",
       " 'dde-ejj',\n",
       " 'bde-ejj',\n",
       " 'dja-ejj',\n",
       " 'cfa-ejj',\n",
       " 'bec-ejj',\n",
       " 'ee-ejj',\n",
       " 'ccg-ejj',\n",
       " 'eac-ejj',\n",
       " 'cje-ejj',\n",
       " 'efe-ejj',\n",
       " 'fi-ejj',\n",
       " 'eag-ejj',\n",
       " 'bbg-ejj',\n",
       " 'cdi-ejj',\n",
       " 'dji-ejj',\n",
       " 'cc-ejj',\n",
       " 'dde-ejj',\n",
       " 'dbg-ejj',\n",
       " 'bae-ejj',\n",
       " 'ege-ejj',\n",
       " 'he-ejj',\n",
       " 'gi-ejj',\n",
       " 'efc-ejj',\n",
       " 'ba-ejj',\n",
       " 'bei-ejj',\n",
       " 'bgc-ejj',\n",
       " 'eie-ejj',\n",
       " 'ig-ejj',\n",
       " 'bee-ejj',\n",
       " 'he-ejj',\n",
       " 'eii-ejj',\n",
       " 'cdg-ejj',\n",
       " 'ede-ejj',\n",
       " 'eei-ejj',\n",
       " 'dhc-ejj',\n",
       " 'bbg-ejj',\n",
       " 'daa-ejj',\n",
       " 'dfg-ejj',\n",
       " 'ji-ejj',\n",
       " 'je-ejj',\n",
       " 'bga-ejj',\n",
       " 'ca-ejj',\n",
       " 'bec-ejj',\n",
       " 'hi-ejj',\n",
       " 'eig-ejj',\n",
       " 'eeg-ejj',\n",
       " 'ebg-ejj',\n",
       " 'fe-ejj',\n",
       " 'ee-ejj',\n",
       " 'dce-ejj',\n",
       " 'cdg-ejj',\n",
       " 'cfg-ejj',\n",
       " 'ehe-ejj',\n",
       " 'dac-ejj',\n",
       " 'cgi-ejj',\n",
       " 'cie-ejj',\n",
       " 'he-ejj',\n",
       " 'bje-ejj',\n",
       " 'ccg-ejj',\n",
       " 'bgg-ejj',\n",
       " 'eic-ejj',\n",
       " 'dii-ejj',\n",
       " 'eje-ejj',\n",
       " 'cia-ejj',\n",
       " 'caa-ejj',\n",
       " 'eai-ejj',\n",
       " 'ja-ejj',\n",
       " 'efi-ejj',\n",
       " 'cbg-ejj',\n",
       " 'eg-ejj',\n",
       " 'ecc-ejj',\n",
       " 'i-ejj',\n",
       " 'die-ejj',\n",
       " 'bee-ejj',\n",
       " 'cdg-ejj',\n",
       " 'ha-ejj',\n",
       " 'bcg-ejj',\n",
       " 'ede-ejj',\n",
       " 'eha-ejj',\n",
       " 'eag-ejj',\n",
       " 'egi-ejj',\n",
       " 'dg-ejj',\n",
       " 'chg-ejj',\n",
       " 'dcc-ejj',\n",
       " 'cea-ejj',\n",
       " 'cii-ejj',\n",
       " 'jc-ejj',\n",
       " 'dba-ejj',\n",
       " 'ha-ejj',\n",
       " 'eea-ejj',\n",
       " 'ja-ejj',\n",
       " 'edg-ejj',\n",
       " 'dfi-ejj',\n",
       " 'dc-ejj',\n",
       " 'bee-ejj',\n",
       " 'ccg-ejj',\n",
       " 'cgi-ejj',\n",
       " 'dba-ejj',\n",
       " 'bic-ejj',\n",
       " 'efi-ejj',\n",
       " 'bgg-ejj',\n",
       " 'ejc-ejj',\n",
       " 'ge-ejj',\n",
       " 'eai-ejj',\n",
       " 'bde-ejj',\n",
       " 'ddg-ejj',\n",
       " 'bcg-ejj',\n",
       " 'dce-ejj',\n",
       " 'edi-ejj',\n",
       " 'bcg-ejj',\n",
       " 'dca-ejj',\n",
       " 'bgg-ejj',\n",
       " 'ehe-ejj',\n",
       " 'bi-ejj',\n",
       " 'bai-ejj',\n",
       " 'cic-ejj',\n",
       " 'bc-ejj',\n",
       " 'dba-ejj',\n",
       " 'ddc-ejj',\n",
       " 'e-ejj',\n",
       " 'bic-ejj',\n",
       " 'bbc-ejj',\n",
       " 'bii-ejj',\n",
       " 'bba-ejj',\n",
       " 'eha-ejj',\n",
       " 'bgi-ejj',\n",
       " 'a-ejj',\n",
       " 'cjc-ejj',\n",
       " 'dac-ejj',\n",
       " 'ddi-ejj',\n",
       " 'dec-ejj',\n",
       " 'ce-ejj',\n",
       " 'cei-ejj',\n",
       " 'ca-ejj',\n",
       " 'bda-ejj',\n",
       " 'hc-ejj',\n",
       " 'ceg-ejj',\n",
       " 'ji-ejj',\n",
       " 'dai-ejj',\n",
       " 'hc-ejj',\n",
       " 'eac-ejj',\n",
       " 'ceg-ejj',\n",
       " 'dag-ejj',\n",
       " 'fg-ejj',\n",
       " 'dba-ejj',\n",
       " 'cja-ejj',\n",
       " 'cjc-ejj',\n",
       " 'bhc-ejj',\n",
       " 'ec-ejj',\n",
       " 'bic-ejj',\n",
       " 'dja-ejj',\n",
       " 'dfg-ejj',\n",
       " 'dba-ejj',\n",
       " 'cja-ejj',\n",
       " 'dhi-ejj',\n",
       " 'edc-ejj',\n",
       " 'ejg-ejj',\n",
       " 'bic-ejj',\n",
       " 'bag-ejj',\n",
       " 'e-ejj',\n",
       " 'bha-ejj',\n",
       " 'edi-ejj',\n",
       " 'cge-ejj',\n",
       " 'cea-ejj',\n",
       " 'bac-ejj',\n",
       " 'eii-ejj',\n",
       " 'ci-ejj',\n",
       " 'eea-ejj',\n",
       " 'efc-ejj',\n",
       " 'cdg-ejj',\n",
       " 'bie-ejj',\n",
       " 'bfa-ejj',\n",
       " 'ccg-ejj',\n",
       " 'dhi-ejj',\n",
       " 'eia-ejj',\n",
       " 'bae-ejj',\n",
       " 'bac-ejj',\n",
       " 'ge-ejj',\n",
       " 'bec-ejj',\n",
       " 'dii-ejj',\n",
       " 'bhc-ejj',\n",
       " 'dee-ejj',\n",
       " 'cjg-ejj',\n",
       " 'egi-ejj',\n",
       " 'eji-ejj',\n",
       " 'cbc-ejj',\n",
       " 'cjg-ejj',\n",
       " 'bc-ejj',\n",
       " 'bi-ejj',\n",
       " 'bbc-ejj',\n",
       " 'bgg-ejj',\n",
       " 'dai-ejj',\n",
       " 'bic-ejj',\n",
       " 'bc-ejj',\n",
       " 'cei-ejj',\n",
       " 'ege-ejj',\n",
       " 'ejc-ejj',\n",
       " 'dci-ejj',\n",
       " 'che-ejj',\n",
       " 'cbg-ejj',\n",
       " 'eag-ejj',\n",
       " 'chc-ejj',\n",
       " 'bfi-ejj',\n",
       " 'bac-ejj',\n",
       " 'gg-ejj',\n",
       " 'egg-ejj',\n",
       " 'ha-ejj',\n",
       " 'bha-ejj',\n",
       " 'dfg-ejj',\n",
       " 'bdg-ejj',\n",
       " 'cjc-ejj',\n",
       " 'ia-ejj',\n",
       " 'dei-ejj',\n",
       " 'ge-ejj',\n",
       " 'hi-ejj',\n",
       " 'dc-ejj',\n",
       " 'eia-ejj',\n",
       " 'bja-ejj',\n",
       " 'bii-ejj',\n",
       " 'bac-ejj',\n",
       " 'chg-ejj']"
      ]
     },
     "execution_count": 135,
     "metadata": {},
     "output_type": "execute_result"
    }
   ],
   "source": [
    "streets_star = set()\n",
    "\n",
    "for car in p.cars:\n",
    "    if p.streets[car.streets[0]].end == 499:\n",
    "        streets_star.append(car.streets[0])\n",
    "        #print(car.streets)\n",
    "streets_star"
   ]
  },
  {
   "cell_type": "code",
   "execution_count": 89,
   "metadata": {},
   "outputs": [
    {
     "name": "stderr",
     "output_type": "stream",
     "text": [
      "100%|██████████| 4/4 [00:00<00:00, 1058.37it/s]\n"
     ]
    }
   ],
   "source": [
    "schedules = []\n",
    "for intersection_id, intersection in tqdm(p.intersections.items()):\n",
    "    schedule = Schedule(intersection_id)\n",
    "    for street, n_cars in intersection.street_in.items():\n",
    "        if (n_cars > 0):\n",
    "            schedule.add_street(street, n_cars)\n",
    "    schedules.append(schedule)"
   ]
  },
  {
   "cell_type": "code",
   "execution_count": 90,
   "metadata": {},
   "outputs": [
    {
     "data": {
      "text/plain": [
       "[0: [{'name': 'rue-de-londres', 'duration': 2}],\n",
       " 1: [{'name': 'rue-d-amsterdam', 'duration': 1}, {'name': 'rue-d-athenes', 'duration': 1}],\n",
       " 2: [{'name': 'rue-de-moscou', 'duration': 2}],\n",
       " 3: [{'name': 'rue-de-rome', 'duration': 1}]]"
      ]
     },
     "execution_count": 90,
     "metadata": {},
     "output_type": "execute_result"
    }
   ],
   "source": [
    "schedules"
   ]
  },
  {
   "cell_type": "code",
   "execution_count": null,
   "metadata": {},
   "outputs": [],
   "source": []
  },
  {
   "cell_type": "code",
   "execution_count": 49,
   "metadata": {},
   "outputs": [
    {
     "data": {
      "text/plain": [
       "2"
      ]
     },
     "execution_count": 49,
     "metadata": {},
     "output_type": "execute_result"
    }
   ],
   "source": [
    "p.streets['rue-de-londres'].start"
   ]
  },
  {
   "cell_type": "code",
   "execution_count": 41,
   "metadata": {},
   "outputs": [
    {
     "data": {
      "text/plain": [
       "['rue-de-londres', 'rue-d-amsterdam', 'rue-de-moscou', 'rue-de-rome']"
      ]
     },
     "execution_count": 41,
     "metadata": {},
     "output_type": "execute_result"
    }
   ],
   "source": [
    "p.cars[0].streets"
   ]
  },
  {
   "cell_type": "code",
   "execution_count": 38,
   "metadata": {},
   "outputs": [
    {
     "data": {
      "text/plain": [
       "{'rue-de-londres'}"
      ]
     },
     "execution_count": 38,
     "metadata": {},
     "output_type": "execute_result"
    }
   ],
   "source": [
    "p.intersections[0].street_in"
   ]
  },
  {
   "cell_type": "code",
   "execution_count": 15,
   "metadata": {},
   "outputs": [],
   "source": [
    "i = Intersection(1)"
   ]
  },
  {
   "cell_type": "code",
   "execution_count": 30,
   "metadata": {},
   "outputs": [
    {
     "data": {
      "text/plain": [
       "['test', 'test', 'test', 'test']"
      ]
     },
     "execution_count": 30,
     "metadata": {},
     "output_type": "execute_result"
    }
   ],
   "source": [
    "i.street_in.append(\"test\")\n",
    "i.street_in"
   ]
  },
  {
   "cell_type": "code",
   "execution_count": null,
   "metadata": {},
   "outputs": [],
   "source": []
  },
  {
   "cell_type": "code",
   "execution_count": null,
   "metadata": {},
   "outputs": [],
   "source": []
  },
  {
   "cell_type": "code",
   "execution_count": null,
   "metadata": {},
   "outputs": [],
   "source": [
    "import os\n",
    "\n",
    "for file in os.listdir('data'):\n",
    "    if not file.endswith('.txt'): # or FILE.startswith('d'):\n",
    "        continue\n",
    "    problem = read_file(f\"data/{file}\")\n",
    "    \n",
    "    schedules = []\n",
    "    for intersection_id, intersection in tqdm(problem.intersections.items()):\n",
    "        schedule = Schedule(intersection_id)\n",
    "        for street in intersection.street_in:\n",
    "            schedule.add_street(street, 1)\n",
    "        schedules.append(schedule)\n",
    "\n",
    "    # print(f\"{file}: score = {score(deliveries)}\")\n",
    "    generate_output(f'data/{file}', schedules)"
   ]
  }
 ],
 "metadata": {
  "kernelspec": {
   "display_name": "Python 3",
   "language": "python",
   "name": "python3"
  },
  "language_info": {
   "codemirror_mode": {
    "name": "ipython",
    "version": 3
   },
   "file_extension": ".py",
   "mimetype": "text/x-python",
   "name": "python",
   "nbconvert_exporter": "python",
   "pygments_lexer": "ipython3",
   "version": "3.8.6"
  }
 },
 "nbformat": 4,
 "nbformat_minor": 4
}
